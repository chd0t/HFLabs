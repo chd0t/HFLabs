{
 "cells": [
  {
   "cell_type": "markdown",
   "id": "cc603e52-4865-4091-8d93-2e5326cb32dc",
   "metadata": {},
   "source": [
    "\n",
    "<span style=\"color:blue\">Task_1 </span>\n",
    "\n",
    "1. Regular expression for address field validation\n",
    "\n",
    "<code>   input  = '140002 ЛЮБЕРЦЫ <span style=\"color:red\">2</span> ОКТЯБРЬСКИЙ ПР 123/4-115' </code> \\\n",
    "<code>   output = '140002 ЛЮБЕРЦЫ ОКТЯБРЬСКИЙ ПР 123/4-115' </code>\n",
    "\n",
    "<span style=\"color:blue\">Task_2</span>\n",
    "\n",
    "1. How many lines are in the file QAtest.txt?\n",
    "2. How many times does \"a\" in the file QAtest.txt?\n",
    "3. What tools did you use?How long did it take to complete the task?## "
   ]
  },
  {
   "cell_type": "markdown",
   "id": "db9c412d-f66a-4baa-a366-5d4144da48ba",
   "metadata": {},
   "source": [
    "<span style=\"color:green\">It took me 30minutes to solve the tasks\\\n",
    "I used search engine Google & command line tools & JupyterLab to solve the tasks</span>"
   ]
  },
  {
   "cell_type": "markdown",
   "id": "fb70c877-1c2c-4469-9bdc-b643840c2d41",
   "metadata": {},
   "source": [
    "<span style=\"color:blue\"> Task_1 Solved </span>"
   ]
  },
  {
   "cell_type": "code",
   "execution_count": 5,
   "id": "5889cc6a-dea2-4505-b3c4-1132c1f5f6bd",
   "metadata": {},
   "outputs": [
    {
     "name": "stdout",
     "output_type": "stream",
     "text": [
      "\u001b[92mSimple search in a string >>> 140002 ЛЮБЕРЦЫ ОКТЯБРЬСКИЙ ПР 123/4-115\n",
      "\n",
      "Multiple search in a list >>> 140002 ЛЮБЕРЦЫ ОКТЯБРЬСКИЙ ПР 123/4-115\n",
      "\n",
      "Multiple search in a list >>> 140002 ЛЮБЕРЦЫ ОКТЯБРЬСКИЙ ПР 123/4-115\n",
      "\n",
      "Multiple search in a list >>> 140002 ЛЮБЕРЦЫ ОКТЯБРЬСКИЙ ПР 123/4-115\n"
     ]
    }
   ],
   "source": [
    "import re\n",
    "from colorama import *\n",
    "\n",
    "green = Fore.LIGHTGREEN_EX\n",
    "\n",
    "#Simple Regex for Street Address\n",
    "#Syntax >>> re.sub(pattern, replacement, string, count=0, flags=0)\n",
    "\n",
    "input = \"140002 ЛЮБЕРЦЫ 2 ОКТЯБРЬСКИЙ ПР 123/4-115\"\n",
    "\n",
    "pattern = r\"[^\\d{6}]\\b\\d+\\s\"\n",
    "replacement = r\" \"\n",
    "output = re.sub(pattern, replacement, input)\n",
    "\n",
    "print(f\"{green}Simple search in a string >>>\", output)\n",
    "\n",
    "#Multiple search Regex for Street Address\n",
    "list = [\"140002 ЛЮБЕРЦЫ 2 ОКТЯБРЬСКИЙ ПР 123/4-115\", \n",
    "        \"140002 ЛЮБЕРЦЫ 22 ОКТЯБРЬСКИЙ ПР 123/4-115\",\n",
    "        \"140002 ЛЮБЕРЦЫ 222 ОКТЯБРЬСКИЙ ПР 123/4-115\"\n",
    "       ]\n",
    "#for x in list:\n",
    "#    y = re.findall(r\"[^\\d{6}]\\b\\d+\\s\", x)\n",
    "#    print(y)\n",
    "    \n",
    "for x in list:\n",
    "    y = re.sub(r\"[^\\d{6}]\\b\\d+\\s\", r\" \", x)\n",
    "    print(f\"\\nMultiple search in a list >>>\", y)"
   ]
  },
  {
   "cell_type": "markdown",
   "id": "06d5a2d7-3093-4e87-988e-3a256b1299f6",
   "metadata": {},
   "source": [
    "<span style=\"color:blue\"> Task_2 Solved</span>\n"
   ]
  },
  {
   "cell_type": "code",
   "execution_count": 2,
   "id": "72dd1ca8-4cfa-4707-8877-5575dc2dbac7",
   "metadata": {},
   "outputs": [
    {
     "name": "stdout",
     "output_type": "stream",
     "text": [
      "16489344\n"
     ]
    }
   ],
   "source": [
    "### python ###\n",
    "file=open('QAtest.txt')\n",
    "x=0\n",
    "for line in file:\n",
    "    x\n",
    "    x+=1\n",
    "print(x)"
   ]
  },
  {
   "cell_type": "code",
   "execution_count": null,
   "id": "7822571d-7571-4b27-beb7-cc3d25011b05",
   "metadata": {},
   "outputs": [],
   "source": [
    "### or use bash ###\n",
    "➜ wc -l < QAtest.txt\n",
    "16489344"
   ]
  },
  {
   "cell_type": "code",
   "execution_count": null,
   "id": "8c98c513-0fd6-4f2d-b900-f0b3c82d0fce",
   "metadata": {},
   "outputs": [],
   "source": [
    "#bash\n",
    "➜ grep -o 'a' QAtest.txt | wc -l\n",
    "347842"
   ]
  }
 ],
 "metadata": {
  "kernelspec": {
   "display_name": "Python 3 (ipykernel)",
   "language": "python",
   "name": "python3"
  },
  "language_info": {
   "codemirror_mode": {
    "name": "ipython",
    "version": 3
   },
   "file_extension": ".py",
   "mimetype": "text/x-python",
   "name": "python",
   "nbconvert_exporter": "python",
   "pygments_lexer": "ipython3",
   "version": "3.9.13"
  }
 },
 "nbformat": 4,
 "nbformat_minor": 5
}
